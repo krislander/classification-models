{
 "cells": [
  {
   "cell_type": "code",
   "execution_count": null,
   "id": "81983a32-d226-4575-a659-1120abb84bdb",
   "metadata": {},
   "outputs": [],
   "source": [
    "from main import my_preprocessing_function, my_training_function\n"
   ]
  }
 ],
 "metadata": {
  "kernelspec": {
   "display_name": "Python 3 (ipykernel)",
   "language": "python",
   "name": "python3"
  },
  "language_info": {
   "codemirror_mode": {
    "name": "ipython",
    "version": 3
   },
   "file_extension": ".py",
   "mimetype": "text/x-python",
   "name": "python",
   "nbconvert_exporter": "python",
   "pygments_lexer": "ipython3",
   "version": "3.11.7"
  }
 },
 "nbformat": 4,
 "nbformat_minor": 5
}

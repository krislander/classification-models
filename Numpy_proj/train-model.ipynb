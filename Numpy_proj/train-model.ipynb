{
 "cells": [
  {
   "cell_type": "code",
   "execution_count": null,
   "id": "beb2f350-ac1a-4666-8020-cbfb3a6f7185",
   "metadata": {},
   "outputs": [],
   "source": []
  },
  {
   "cell_type": "code",
   "execution_count": 17,
   "id": "81983a32-d226-4575-a659-1120abb84bdb",
   "metadata": {},
   "outputs": [
    {
     "name": "stdout",
     "output_type": "stream",
     "text": [
      "Accuracy: 0.8706666666666667\n",
      "Classification Report:\n",
      "               precision    recall  f1-score   support\n",
      "\n",
      "           0       0.76      0.65      0.70       699\n",
      "           1       0.90      0.94      0.92      2301\n",
      "\n",
      "    accuracy                           0.87      3000\n",
      "   macro avg       0.83      0.79      0.81      3000\n",
      "weighted avg       0.87      0.87      0.87      3000\n",
      "\n"
     ]
    }
   ],
   "source": [
    "import sys\n",
    "import os\n",
    "os.chdir('C:/github_krislander/python-ml/Numpy_proj')\n",
    "sys.path.append('classification_ex')\n",
    "sys.path.append('datasets')\n",
    "from main import train_model\n",
    "\n",
    "train_model()\n"
   ]
  },
  {
   "cell_type": "code",
   "execution_count": null,
   "id": "122b5b9b-04cd-4b28-9d33-6036734a1b2a",
   "metadata": {},
   "outputs": [],
   "source": []
  }
 ],
 "metadata": {
  "kernelspec": {
   "display_name": "Python 3 (ipykernel)",
   "language": "python",
   "name": "python3"
  },
  "language_info": {
   "codemirror_mode": {
    "name": "ipython",
    "version": 3
   },
   "file_extension": ".py",
   "mimetype": "text/x-python",
   "name": "python",
   "nbconvert_exporter": "python",
   "pygments_lexer": "ipython3",
   "version": "3.11.7"
  }
 },
 "nbformat": 4,
 "nbformat_minor": 5
}
